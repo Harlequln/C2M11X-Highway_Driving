{
 "cells": [
  {
   "cell_type": "code",
   "execution_count": 1,
   "metadata": {},
   "outputs": [
    {
     "data": {
      "text/html": [
       "<div>\n",
       "<style scoped>\n",
       "    .dataframe tbody tr th:only-of-type {\n",
       "        vertical-align: middle;\n",
       "    }\n",
       "\n",
       "    .dataframe tbody tr th {\n",
       "        vertical-align: top;\n",
       "    }\n",
       "\n",
       "    .dataframe thead th {\n",
       "        text-align: right;\n",
       "    }\n",
       "</style>\n",
       "<table border=\"1\" class=\"dataframe\">\n",
       "  <thead>\n",
       "    <tr style=\"text-align: right;\">\n",
       "      <th></th>\n",
       "      <th>x</th>\n",
       "      <th>y</th>\n",
       "      <th>s</th>\n",
       "      <th>dx</th>\n",
       "      <th>dy</th>\n",
       "    </tr>\n",
       "  </thead>\n",
       "  <tbody>\n",
       "    <tr>\n",
       "      <th>0</th>\n",
       "      <td>784.6001</td>\n",
       "      <td>1135.571</td>\n",
       "      <td>0.000000</td>\n",
       "      <td>-0.023598</td>\n",
       "      <td>-0.999722</td>\n",
       "    </tr>\n",
       "    <tr>\n",
       "      <th>1</th>\n",
       "      <td>815.2679</td>\n",
       "      <td>1134.930</td>\n",
       "      <td>30.674479</td>\n",
       "      <td>-0.010995</td>\n",
       "      <td>-0.999940</td>\n",
       "    </tr>\n",
       "    <tr>\n",
       "      <th>...</th>\n",
       "      <td>...</td>\n",
       "      <td>...</td>\n",
       "      <td>...</td>\n",
       "      <td>...</td>\n",
       "      <td>...</td>\n",
       "    </tr>\n",
       "    <tr>\n",
       "      <th>179</th>\n",
       "      <td>711.2000</td>\n",
       "      <td>1143.500</td>\n",
       "      <td>6871.549595</td>\n",
       "      <td>-0.263706</td>\n",
       "      <td>-0.964603</td>\n",
       "    </tr>\n",
       "    <tr>\n",
       "      <th>180</th>\n",
       "      <td>753.2067</td>\n",
       "      <td>1136.417</td>\n",
       "      <td>6914.149258</td>\n",
       "      <td>-0.107399</td>\n",
       "      <td>-0.994216</td>\n",
       "    </tr>\n",
       "  </tbody>\n",
       "</table>\n",
       "<p>181 rows × 5 columns</p>\n",
       "</div>"
      ],
      "text/plain": [
       "            x         y            s        dx        dy\n",
       "0    784.6001  1135.571     0.000000 -0.023598 -0.999722\n",
       "1    815.2679  1134.930    30.674479 -0.010995 -0.999940\n",
       "..        ...       ...          ...       ...       ...\n",
       "179  711.2000  1143.500  6871.549595 -0.263706 -0.964603\n",
       "180  753.2067  1136.417  6914.149258 -0.107399 -0.994216\n",
       "\n",
       "[181 rows x 5 columns]"
      ]
     },
     "execution_count": 1,
     "metadata": {},
     "output_type": "execute_result"
    }
   ],
   "source": [
    "import pandas as pd\n",
    "pd.set_option('display.max_rows', 4)\n",
    "\n",
    "coarse_map = pd.read_csv('../data/highway_map.csv', sep='\\s+', names=['x', 'y', 's', 'dx', 'dy'])\n",
    "coarse_map"
   ]
  },
  {
   "cell_type": "code",
   "execution_count": null,
   "metadata": {},
   "outputs": [],
   "source": []
  }
 ],
 "metadata": {
  "kernelspec": {
   "display_name": "Python 3",
   "language": "python",
   "name": "python3"
  },
  "language_info": {
   "codemirror_mode": {
    "name": "ipython",
    "version": 3
   },
   "file_extension": ".py",
   "mimetype": "text/x-python",
   "name": "python",
   "nbconvert_exporter": "python",
   "pygments_lexer": "ipython3",
   "version": "3.7.6"
  }
 },
 "nbformat": 4,
 "nbformat_minor": 4
}
